{
 "cells": [
  {
   "cell_type": "code",
   "execution_count": 1,
   "id": "945d1435-398d-4dfd-aa38-b556b17a4a07",
   "metadata": {},
   "outputs": [],
   "source": [
    "import pandas as pd\n",
    "import concurrent.futures\n",
    "import threading\n",
    "from yaml import load, FullLoader\n",
    "import codecs\n",
    "import os\n",
    "from sqlalchemy import engine, create_engine\n",
    "from datetime import datetime, timedelta\n",
    "#import pandas as pd\n",
    "import polars as pl\n",
    "from openpyxl import Workbook\n",
    "from openpyxl import worksheet\n",
    "from datetime import datetime, timedelta\n",
    "from openpyxl.styles import PatternFill, Border, Side, Alignment, Protection, Font\n",
    "from openpyxl.styles import NamedStyle, Side\n",
    "from icecream import ic\n",
    "\n",
    "from lista_queries import *\n",
    "from utilities import *\n",
    "from formatos import *\n",
    "from logins import *\n",
    "from logins_tv import *\n",
    "from novos_users_ac import *\n",
    "from pandas.core.indexes.datetimes import date_range"
   ]
  },
  {
   "cell_type": "code",
   "execution_count": 2,
   "id": "f645f6c6-ad4b-4494-a6f1-137d3b28f2c2",
   "metadata": {},
   "outputs": [],
   "source": [
    "with codecs.open(str(os.getenv(\"CONFS\"))+\"conf_dba\\\\configuracao.yaml\", \"r\", \"utf-8\") as fich:\n",
    "    config = load(fich, Loader=FullLoader)\n",
    "    string_conf = config['con_str_0']\n",
    "bd: str ='BD_ECARE'\n",
    "engine: engine = create_engine(f'mssql+pyodbc:///?odbc_connect={ string_conf };DATABASE='+bd)\n",
    "dados: dict[str, pl.DataFrame]={}\n",
    "def download_site(query: list[str,str])->None:\n",
    "    global engine, dados\n",
    "    ic(query)\n",
    "    dados[query[0]] = pl.read_database(query[1], engine)\n",
    "def download_all_sites(lista_queries: list[list[str,str]])->None:\n",
    "    with concurrent.futures.ThreadPoolExecutor(max_workers=7) as executor:\n",
    "        executor.map(download_site, lista_queries)"
   ]
  },
  {
   "cell_type": "code",
   "execution_count": 3,
   "id": "da1a87eb-c396-444a-a848-6a139d855952",
   "metadata": {},
   "outputs": [
    {
     "name": "stderr",
     "output_type": "stream",
     "text": [
      "icicicicicic|ic||||||      queryqueryqueryqueryquery query:::query::: :      [[[[[['''['''logins_daynew_users_week'users_ac_weekusers_ac_daynew_users_monthnew_users_day''users_ac_month'''',,,,,',    , ' ' ''SELECT * FROM dbo.vw_Logins_Day_LYTM''SELECT * FROM dbo.vw_New_Users_ACC_Week_LYTM'SELECT * FROM dbo.vw_IND_Users_AC_Day_LYTM'SELECT * FROM dbo.vw_New_Users_ACC_Month_LYTMSELECT * FROM dbo.vw_IND_Users_AC_Week_LYTMSELECT * FROM dbo.vw_New_Users_ACC_Day_LYTM'SELECT * FROM dbo.vw_IND_Users_AC_Month_LYTM'''']']]]]\n",
      "]\n",
      "\n",
      "\n",
      "\n",
      "\n",
      "\n",
      "icic|| query:  [query'logins_week':, ' SELECT * FROM dbo.vw_Logins_Week_LYTM[']\n",
      "logins_month', 'SELECT * FROM dbo.vw_Logins_Month_LYTM']\n",
      "ic| query: ['logins_day_tv', 'SELECT * FROM dbo.vw_LOGINS_TV_Day_LYTM']\n",
      "icic||  queryquery::  [['logins_month_tv'logins_week_tv'',,  ''SELECT * FROM dbo.vw_LOGINS_TV_Month_LYTMSELECT * FROM dbo.vw_LOGINS_TV_Week_LYTM'']]\n",
      "\n"
     ]
    }
   ],
   "source": [
    "download_all_sites(lista_queries_a_fazer)"
   ]
  },
  {
   "cell_type": "code",
   "execution_count": 12,
   "id": "27c6013e-cf8c-4df4-9c7e-e413f4dfac98",
   "metadata": {},
   "outputs": [
    {
     "name": "stdout",
     "output_type": "stream",
     "text": [
      "0 2025 (2025, 1, 4073)\n",
      "1 2025 (2025, 2, 7526)\n",
      "2 2025 (2025, 3, 6925)\n",
      "3 2025 (2025, 4, 6563)\n",
      "4 2025 (2025, 5, 9620)\n"
     ]
    }
   ],
   "source": [
    "for i, row in enumerate(dados['new_users_week'].sort(by=[\"Year\", \"Week\"]).tail(5).iter_rows()):\n",
    "    print(i, row[0], row)"
   ]
  },
  {
   "cell_type": "code",
   "execution_count": 5,
   "id": "0e0e145b-fbc1-4613-b94b-301e68347de5",
   "metadata": {},
   "outputs": [
    {
     "data": {
      "text/html": [
       "<div><style>\n",
       ".dataframe > thead > tr,\n",
       ".dataframe > tbody > tr {\n",
       "  text-align: right;\n",
       "  white-space: pre-wrap;\n",
       "}\n",
       "</style>\n",
       "<small>shape: (5, 12)</small><table border=\"1\" class=\"dataframe\"><thead><tr><th>Year</th><th>Week</th><th>ACC_Total</th><th>ACC_Consumo</th><th>ACC_Moche</th><th>ACC_Uzo</th><th>ACC_Altice_Empresas</th><th>ACC_ACE</th><th>ACE_Total</th><th>ACE_Empresariais</th><th>ACE_Altice_Empresas</th><th>Altice_Empresas_Total</th></tr><tr><td>i64</td><td>i64</td><td>i64</td><td>i64</td><td>i64</td><td>i64</td><td>i64</td><td>i64</td><td>i64</td><td>i64</td><td>i64</td><td>i64</td></tr></thead><tbody><tr><td>2025</td><td>1</td><td>1825</td><td>1599</td><td>-261</td><td>354</td><td>133</td><td>31</td><td>79</td><td>55</td><td>24</td><td>156</td></tr><tr><td>2025</td><td>2</td><td>2398</td><td>2946</td><td>-959</td><td>262</td><td>149</td><td>38</td><td>112</td><td>106</td><td>6</td><td>157</td></tr><tr><td>2025</td><td>3</td><td>-841</td><td>-637</td><td>-868</td><td>537</td><td>127</td><td>24</td><td>157</td><td>130</td><td>27</td><td>151</td></tr><tr><td>2025</td><td>4</td><td>486</td><td>838</td><td>-869</td><td>375</td><td>142</td><td>33</td><td>165</td><td>139</td><td>26</td><td>168</td></tr><tr><td>2025</td><td>5</td><td>2052</td><td>2182</td><td>-599</td><td>342</td><td>127</td><td>32</td><td>193</td><td>162</td><td>31</td><td>152</td></tr></tbody></table></div>"
      ],
      "text/plain": [
       "shape: (5, 12)\n",
       "┌──────┬──────┬───────────┬─────────────┬───┬───────────┬──────────────────┬─────────────────────┬─────────────────────┐\n",
       "│ Year ┆ Week ┆ ACC_Total ┆ ACC_Consumo ┆ … ┆ ACE_Total ┆ ACE_Empresariais ┆ ACE_Altice_Empresas ┆ Altice_Empresas_Tot │\n",
       "│ ---  ┆ ---  ┆ ---       ┆ ---         ┆   ┆ ---       ┆ ---              ┆ ---                 ┆ al                  │\n",
       "│ i64  ┆ i64  ┆ i64       ┆ i64         ┆   ┆ i64       ┆ i64              ┆ i64                 ┆ ---                 │\n",
       "│      ┆      ┆           ┆             ┆   ┆           ┆                  ┆                     ┆ i64                 │\n",
       "╞══════╪══════╪═══════════╪═════════════╪═══╪═══════════╪══════════════════╪═════════════════════╪═════════════════════╡\n",
       "│ 2025 ┆ 1    ┆ 1825      ┆ 1599        ┆ … ┆ 79        ┆ 55               ┆ 24                  ┆ 156                 │\n",
       "│ 2025 ┆ 2    ┆ 2398      ┆ 2946        ┆ … ┆ 112       ┆ 106              ┆ 6                   ┆ 157                 │\n",
       "│ 2025 ┆ 3    ┆ -841      ┆ -637        ┆ … ┆ 157       ┆ 130              ┆ 27                  ┆ 151                 │\n",
       "│ 2025 ┆ 4    ┆ 486       ┆ 838         ┆ … ┆ 165       ┆ 139              ┆ 26                  ┆ 168                 │\n",
       "│ 2025 ┆ 5    ┆ 2052      ┆ 2182        ┆ … ┆ 193       ┆ 162              ┆ 31                  ┆ 152                 │\n",
       "└──────┴──────┴───────────┴─────────────┴───┴───────────┴──────────────────┴─────────────────────┴─────────────────────┘"
      ]
     },
     "execution_count": 5,
     "metadata": {},
     "output_type": "execute_result"
    }
   ],
   "source": [
    "dados[\"users_ac_week\"].tail(5)"
   ]
  },
  {
   "cell_type": "code",
   "execution_count": 9,
   "id": "54f91556-5af2-4acd-895a-f0d9291a40ce",
   "metadata": {},
   "outputs": [
    {
     "data": {
      "text/html": [
       "<div><style>\n",
       ".dataframe > thead > tr,\n",
       ".dataframe > tbody > tr {\n",
       "  text-align: right;\n",
       "  white-space: pre-wrap;\n",
       "}\n",
       "</style>\n",
       "<small>shape: (58, 3)</small><table border=\"1\" class=\"dataframe\"><thead><tr><th>Year</th><th>Week</th><th>New_Users</th></tr><tr><td>i64</td><td>i64</td><td>i64</td></tr></thead><tbody><tr><td>2024</td><td>8</td><td>9496</td></tr><tr><td>2024</td><td>15</td><td>7127</td></tr><tr><td>2024</td><td>22</td><td>7285</td></tr><tr><td>2024</td><td>33</td><td>10142</td></tr><tr><td>2024</td><td>40</td><td>7637</td></tr><tr><td>&hellip;</td><td>&hellip;</td><td>&hellip;</td></tr><tr><td>2024</td><td>39</td><td>9482</td></tr><tr><td>2024</td><td>41</td><td>9080</td></tr><tr><td>2024</td><td>48</td><td>9695</td></tr><tr><td>2024</td><td>50</td><td>10118</td></tr><tr><td>2025</td><td>5</td><td>9620</td></tr></tbody></table></div>"
      ],
      "text/plain": [
       "shape: (58, 3)\n",
       "┌──────┬──────┬───────────┐\n",
       "│ Year ┆ Week ┆ New_Users │\n",
       "│ ---  ┆ ---  ┆ ---       │\n",
       "│ i64  ┆ i64  ┆ i64       │\n",
       "╞══════╪══════╪═══════════╡\n",
       "│ 2024 ┆ 8    ┆ 9496      │\n",
       "│ 2024 ┆ 15   ┆ 7127      │\n",
       "│ 2024 ┆ 22   ┆ 7285      │\n",
       "│ 2024 ┆ 33   ┆ 10142     │\n",
       "│ 2024 ┆ 40   ┆ 7637      │\n",
       "│ …    ┆ …    ┆ …         │\n",
       "│ 2024 ┆ 39   ┆ 9482      │\n",
       "│ 2024 ┆ 41   ┆ 9080      │\n",
       "│ 2024 ┆ 48   ┆ 9695      │\n",
       "│ 2024 ┆ 50   ┆ 10118     │\n",
       "│ 2025 ┆ 5    ┆ 9620      │\n",
       "└──────┴──────┴───────────┘"
      ]
     },
     "execution_count": 9,
     "metadata": {},
     "output_type": "execute_result"
    }
   ],
   "source": [
    "dados['new_users_week']"
   ]
  },
  {
   "cell_type": "code",
   "execution_count": null,
   "id": "0fe5f437-8f4c-4a08-bb3f-6d06132b2a78",
   "metadata": {},
   "outputs": [],
   "source": []
  }
 ],
 "metadata": {
  "kernelspec": {
   "display_name": "Python 3 (ipykernel)",
   "language": "python",
   "name": "python3"
  },
  "language_info": {
   "codemirror_mode": {
    "name": "ipython",
    "version": 3
   },
   "file_extension": ".py",
   "mimetype": "text/x-python",
   "name": "python",
   "nbconvert_exporter": "python",
   "pygments_lexer": "ipython3",
   "version": "3.12.8"
  }
 },
 "nbformat": 4,
 "nbformat_minor": 5
}
