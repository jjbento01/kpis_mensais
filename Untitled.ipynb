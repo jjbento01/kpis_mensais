{
 "cells": [
  {
   "cell_type": "code",
   "execution_count": 10,
   "id": "dd0e0ed4-2185-403c-a5bb-eadfaa3907ce",
   "metadata": {},
   "outputs": [],
   "source": [
    "from sqlalchemy import engine, create_engine\n",
    "from yaml import load, FullLoader\n",
    "import codecs\n",
    "import os\n",
    "import polars as pl"
   ]
  },
  {
   "cell_type": "code",
   "execution_count": 8,
   "id": "9394cff9-ca3a-45c2-a0bf-103a933988a0",
   "metadata": {},
   "outputs": [],
   "source": [
    "with codecs.open(str(os.getenv(\"CONFS\"))+\"conf_dba\\\\configuracao.yaml\", \"r\", \"utf-8\") as fich:\n",
    "    config = load(fich, Loader=FullLoader)\n",
    "    string_conf = config['con_str_0']"
   ]
  },
  {
   "cell_type": "code",
   "execution_count": 13,
   "id": "cf6d00eb-a77f-4a3a-8e80-a83d4e943032",
   "metadata": {},
   "outputs": [
    {
     "data": {
      "text/plain": [
       "'DRIVER={ODBC Driver 11 for SQL Server};SERVER=10.114.25.93,1435;TRUSTED_CONNECTION=YES'"
      ]
     },
     "execution_count": 13,
     "metadata": {},
     "output_type": "execute_result"
    }
   ],
   "source": [
    "bd: str ='BD_ECARE'\n",
    "engine: engine = create_engine(f'mssql+pyodbc:///?odbc_connect={ string_conf };DATABASE='+bd)\n",
    "string_conf"
   ]
  },
  {
   "cell_type": "code",
   "execution_count": 18,
   "id": "507c0e64-7507-4e92-987d-3921a63de67c",
   "metadata": {},
   "outputs": [],
   "source": [
    "dado0: pl.DataFrame = pl.read_database(\"SELECT * FROM dbo.vw_IND_Users_AC_Month_LYTM\", engine)"
   ]
  },
  {
   "cell_type": "code",
   "execution_count": 19,
   "id": "090801cb-8790-4c6a-8675-2ec5ef6ff607",
   "metadata": {},
   "outputs": [
    {
     "data": {
      "text/html": [
       "<div><style>\n",
       ".dataframe > thead > tr,\n",
       ".dataframe > tbody > tr {\n",
       "  text-align: right;\n",
       "  white-space: pre-wrap;\n",
       "}\n",
       "</style>\n",
       "<small>shape: (12, 12)</small><table border=\"1\" class=\"dataframe\"><thead><tr><th>Year</th><th>Month</th><th>ACC_Total</th><th>ACC_Consumo</th><th>ACC_Moche</th><th>ACC_Uzo</th><th>ACC_Altice_Empresas</th><th>ACC_ACE</th><th>ACE_Total</th><th>ACE_Empresariais</th><th>ACE_Altice_Empresas</th><th>Altice_Empresas_Total</th></tr><tr><td>i64</td><td>i64</td><td>i64</td><td>i64</td><td>i64</td><td>i64</td><td>i64</td><td>i64</td><td>i64</td><td>i64</td><td>i64</td><td>i64</td></tr></thead><tbody><tr><td>2024</td><td>1</td><td>6331</td><td>4979</td><td>134</td><td>631</td><td>587</td><td>35</td><td>500</td><td>551</td><td>-51</td><td>552</td></tr><tr><td>2024</td><td>2</td><td>6580</td><td>5585</td><td>-115</td><td>470</td><td>640</td><td>12</td><td>391</td><td>455</td><td>-64</td><td>612</td></tr><tr><td>2024</td><td>3</td><td>3621</td><td>1139</td><td>1657</td><td>431</td><td>394</td><td>-30</td><td>205</td><td>282</td><td>-77</td><td>360</td></tr><tr><td>2024</td><td>4</td><td>5217</td><td>4356</td><td>-49</td><td>518</td><td>392</td><td>13</td><td>483</td><td>487</td><td>-4</td><td>411</td></tr><tr><td>2024</td><td>5</td><td>5808</td><td>5194</td><td>-386</td><td>612</td><td>388</td><td>27</td><td>553</td><td>586</td><td>-33</td><td>374</td></tr><tr><td>&hellip;</td><td>&hellip;</td><td>&hellip;</td><td>&hellip;</td><td>&hellip;</td><td>&hellip;</td><td>&hellip;</td><td>&hellip;</td><td>&hellip;</td><td>&hellip;</td><td>&hellip;</td><td>&hellip;</td></tr><tr><td>2024</td><td>8</td><td>12662</td><td>9552</td><td>383</td><td>1836</td><td>891</td><td>254</td><td>621</td><td>445</td><td>176</td><td>1018</td></tr><tr><td>2024</td><td>9</td><td>5915</td><td>3760</td><td>-599</td><td>2087</td><td>667</td><td>202</td><td>667</td><td>500</td><td>167</td><td>792</td></tr><tr><td>2024</td><td>10</td><td>4376</td><td>4806</td><td>-1906</td><td>798</td><td>678</td><td>183</td><td>649</td><td>518</td><td>131</td><td>785</td></tr><tr><td>2024</td><td>11</td><td>11847</td><td>11735</td><td>-2744</td><td>2091</td><td>765</td><td>207</td><td>791</td><td>650</td><td>141</td><td>924</td></tr><tr><td>2024</td><td>12</td><td>4741</td><td>5207</td><td>-2782</td><td>1698</td><td>618</td><td>82</td><td>405</td><td>350</td><td>55</td><td>714</td></tr></tbody></table></div>"
      ],
      "text/plain": [
       "shape: (12, 12)\n",
       "┌──────┬───────┬───────────┬─────────────┬───┬───────────┬──────────────────┬─────────────────────┬────────────────────┐\n",
       "│ Year ┆ Month ┆ ACC_Total ┆ ACC_Consumo ┆ … ┆ ACE_Total ┆ ACE_Empresariais ┆ ACE_Altice_Empresas ┆ Altice_Empresas_To │\n",
       "│ ---  ┆ ---   ┆ ---       ┆ ---         ┆   ┆ ---       ┆ ---              ┆ ---                 ┆ tal                │\n",
       "│ i64  ┆ i64   ┆ i64       ┆ i64         ┆   ┆ i64       ┆ i64              ┆ i64                 ┆ ---                │\n",
       "│      ┆       ┆           ┆             ┆   ┆           ┆                  ┆                     ┆ i64                │\n",
       "╞══════╪═══════╪═══════════╪═════════════╪═══╪═══════════╪══════════════════╪═════════════════════╪════════════════════╡\n",
       "│ 2024 ┆ 1     ┆ 6331      ┆ 4979        ┆ … ┆ 500       ┆ 551              ┆ -51                 ┆ 552                │\n",
       "│ 2024 ┆ 2     ┆ 6580      ┆ 5585        ┆ … ┆ 391       ┆ 455              ┆ -64                 ┆ 612                │\n",
       "│ 2024 ┆ 3     ┆ 3621      ┆ 1139        ┆ … ┆ 205       ┆ 282              ┆ -77                 ┆ 360                │\n",
       "│ 2024 ┆ 4     ┆ 5217      ┆ 4356        ┆ … ┆ 483       ┆ 487              ┆ -4                  ┆ 411                │\n",
       "│ 2024 ┆ 5     ┆ 5808      ┆ 5194        ┆ … ┆ 553       ┆ 586              ┆ -33                 ┆ 374                │\n",
       "│ …    ┆ …     ┆ …         ┆ …           ┆ … ┆ …         ┆ …                ┆ …                   ┆ …                  │\n",
       "│ 2024 ┆ 8     ┆ 12662     ┆ 9552        ┆ … ┆ 621       ┆ 445              ┆ 176                 ┆ 1018               │\n",
       "│ 2024 ┆ 9     ┆ 5915      ┆ 3760        ┆ … ┆ 667       ┆ 500              ┆ 167                 ┆ 792                │\n",
       "│ 2024 ┆ 10    ┆ 4376      ┆ 4806        ┆ … ┆ 649       ┆ 518              ┆ 131                 ┆ 785                │\n",
       "│ 2024 ┆ 11    ┆ 11847     ┆ 11735       ┆ … ┆ 791       ┆ 650              ┆ 141                 ┆ 924                │\n",
       "│ 2024 ┆ 12    ┆ 4741      ┆ 5207        ┆ … ┆ 405       ┆ 350              ┆ 55                  ┆ 714                │\n",
       "└──────┴───────┴───────────┴─────────────┴───┴───────────┴──────────────────┴─────────────────────┴────────────────────┘"
      ]
     },
     "execution_count": 19,
     "metadata": {},
     "output_type": "execute_result"
    }
   ],
   "source": [
    "dado0.sort([\"Year\", \"Month\"]) "
   ]
  },
  {
   "cell_type": "code",
   "execution_count": 28,
   "id": "550e3361-186b-48db-b3aa-5a160b777e17",
   "metadata": {},
   "outputs": [
    {
     "data": {
      "text/plain": [
       "6331"
      ]
     },
     "execution_count": 28,
     "metadata": {},
     "output_type": "execute_result"
    }
   ],
   "source": [
    "list(dado0.filter((pl.col(\"Year\")==2024)&(pl.col(\"Month\")==1))['ACC_Total'])[0]"
   ]
  },
  {
   "cell_type": "code",
   "execution_count": null,
   "id": "5da273a8-89b0-4b5a-bcfc-44f87b87ee8c",
   "metadata": {},
   "outputs": [],
   "source": []
  }
 ],
 "metadata": {
  "kernelspec": {
   "display_name": "Python 3 (ipykernel)",
   "language": "python",
   "name": "python3"
  },
  "language_info": {
   "codemirror_mode": {
    "name": "ipython",
    "version": 3
   },
   "file_extension": ".py",
   "mimetype": "text/x-python",
   "name": "python",
   "nbconvert_exporter": "python",
   "pygments_lexer": "ipython3",
   "version": "3.12.8"
  }
 },
 "nbformat": 4,
 "nbformat_minor": 5
}
